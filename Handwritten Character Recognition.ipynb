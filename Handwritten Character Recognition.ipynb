{
 "cells": [
  {
   "cell_type": "code",
   "execution_count": 1,
   "metadata": {},
   "outputs": [],
   "source": [
    "import pandas as pd\n",
    "import numpy as np\n",
    "import matplotlib.pyplot as plt\n",
    "import cv2\n",
    "import tensorflow as tf\n",
    "# Instead of importing everything, I imported only necessary things.\n",
    "from keras.models import Sequential\n",
    "from keras.layers import Dense, Flatten, Conv2D, MaxPool2D, Dropout\n",
    "from keras.optimizers import SGD, Adam\n",
    "from keras.callbacks import ReduceLROnPlateau, EarlyStopping\n",
    "from tensorflow.keras.utils import to_categorical\n",
    "from sklearn.model_selection import train_test_split\n",
    "from sklearn.utils import shuffle"
   ]
  },
  {
   "cell_type": "markdown",
   "metadata": {},
   "source": [
    "I have imported the necessary libraries. Now, I'm going to read dataset by using pd.read_csv() and printing the first 10 images."
   ]
  },
  {
   "cell_type": "code",
   "execution_count": 2,
   "metadata": {},
   "outputs": [],
   "source": [
    "data = pd.read_csv(r\"C:\\Users\\dorae\\A_Z Handwritten Data.csv\").astype('float32')\n",
    "\n",
    "#print(data.head(10))"
   ]
  },
  {
   "cell_type": "markdown",
   "metadata": {},
   "source": [
    "I read the dataset. Now, I'm splitting data. "
   ]
  },
  {
   "cell_type": "code",
   "execution_count": 3,
   "metadata": {},
   "outputs": [],
   "source": [
    "X = data.drop('0',axis = 1)"
   ]
  },
  {
   "cell_type": "markdown",
   "metadata": {},
   "source": [
    "'drop' function is from **pandas**. It drops specified labels or rows. 0th column contains labels so we splitted labels from data."
   ]
  },
  {
   "cell_type": "code",
   "execution_count": 4,
   "metadata": {},
   "outputs": [],
   "source": [
    "y = data['0']"
   ]
  },
  {
   "cell_type": "markdown",
   "metadata": {},
   "source": [
    "y is containing labels."
   ]
  },
  {
   "cell_type": "markdown",
   "metadata": {},
   "source": [
    "Now, I'm going to split dataset for training and testing."
   ]
  },
  {
   "cell_type": "code",
   "execution_count": 5,
   "metadata": {},
   "outputs": [],
   "source": [
    "train_x, test_x, train_y, test_y = train_test_split(X, y, test_size = 0.2)"
   ]
  },
  {
   "cell_type": "markdown",
   "metadata": {},
   "source": [
    "'train_test_split' function is from **scikitlearn**. It splits array randomly into 2 subsets. test_size is representing the proportion of test data to whole data. I used a common split percentage by specifying test_size = 0.2. It means that train data would be %80 and test data would be %20 of the data."
   ]
  },
  {
   "cell_type": "code",
   "execution_count": 6,
   "metadata": {},
   "outputs": [],
   "source": [
    "train_x = np.reshape(train_x.values, (train_x.shape[0], 28,28))\n",
    "test_x = np.reshape(test_x.values, (test_x.shape[0], 28,28))"
   ]
  },
  {
   "cell_type": "markdown",
   "metadata": {},
   "source": [
    "'reshape' function is from **numpy**. It reshapes arrays. Data is shaped into 28x28 pixels."
   ]
  },
  {
   "cell_type": "code",
   "execution_count": 7,
   "metadata": {},
   "outputs": [
    {
     "name": "stdout",
     "output_type": "stream",
     "text": [
      "Train data shape:  (297960, 28, 28)\n",
      "Test data shape:  (74490, 28, 28)\n"
     ]
    }
   ],
   "source": [
    "print(\"Train data shape: \", train_x.shape)\n",
    "print(\"Test data shape: \", test_x.shape)"
   ]
  },
  {
   "cell_type": "markdown",
   "metadata": {},
   "source": [
    "We can see that there are total 372450 data."
   ]
  },
  {
   "cell_type": "code",
   "execution_count": 8,
   "metadata": {},
   "outputs": [],
   "source": [
    "letter_list = {0:'A',1:'B',2:'C',3:'D',4:'E',5:'F',6:'G',7:'H',8:'I',9:'J',10:'K',11:'L',12:'M',13:'N',14:'O',15:'P',\n",
    "               16:'Q',17:'R',18:'S',19:'T',20:'U',21:'V',22:'W',23:'X', 24:'Y',25:'Z'}"
   ]
  },
  {
   "cell_type": "markdown",
   "metadata": {},
   "source": [
    "I associated each letter with an integer value. Turkish characters doesn't exist in the dataset. So we have total 26 letters."
   ]
  },
  {
   "cell_type": "code",
   "execution_count": 9,
   "metadata": {},
   "outputs": [],
   "source": [
    "y_int = np.int0(y)\n",
    "count = np.zeros(26, dtype = 'int')"
   ]
  },
  {
   "cell_type": "code",
   "execution_count": 10,
   "metadata": {},
   "outputs": [],
   "source": [
    "for i in y_int:\n",
    "    count[i] += 1"
   ]
  },
  {
   "cell_type": "markdown",
   "metadata": {},
   "source": [
    "I converted labels into integer values. After that I created a list named 'count' with 26 indexes and I assigned 0 to all list member. The for loop counted all letters so, 'count' countains number of each letter."
   ]
  },
  {
   "cell_type": "code",
   "execution_count": 11,
   "metadata": {},
   "outputs": [],
   "source": [
    "alphabets = []\n",
    "for i in letter_list.values():\n",
    "    alphabets.append(i)"
   ]
  },
  {
   "cell_type": "markdown",
   "metadata": {},
   "source": [
    "Now, I created another list named 'alphabets' and it contains all letters. "
   ]
  },
  {
   "cell_type": "markdown",
   "metadata": {},
   "source": [
    "'subplots' is from **matplotlib**. Horizontal bar plot is created by using 'barh'. "
   ]
  },
  {
   "cell_type": "code",
   "execution_count": 12,
   "metadata": {},
   "outputs": [
    {
     "data": {
      "image/png": "[encoded data removed]",
      "text/plain": [
       "<Figure size 936x576 with 1 Axes>"
      ]
     },
     "metadata": {
      "needs_background": "light"
     },
     "output_type": "display_data"
    }
   ],
   "source": [
    "fig, ax = plt.subplots(1, 1, figsize = (13,8)) #1,1 means we have 1 graph. 15,15 is ratio of graph.\n",
    "ax.barh(alphabets, count, color = 'purple')\n",
    "plt.xlabel(\"Number of letters in dataset\")\n",
    "plt.ylabel(\"Characters\")\n",
    "plt.grid() #lines in the graph\n",
    "plt.show() "
   ]
  },
  {
   "cell_type": "code",
   "execution_count": 13,
   "metadata": {},
   "outputs": [],
   "source": [
    "shuffled = shuffle(train_x[:100])"
   ]
  },
  {
   "cell_type": "markdown",
   "metadata": {},
   "source": [
    "train_x lists first 100 element is shuffled."
   ]
  },
  {
   "cell_type": "markdown",
   "metadata": {},
   "source": [
    "'threshold' is from **opencv**. It is used for seperating an image as a background and foreground. In here, I'm going to use it for displaying some images from the shuffled data."
   ]
  },
  {
   "cell_type": "markdown",
   "metadata": {},
   "source": [
    "Each pixel value in shuffled[i] will be compared to Threshold Value which is 30 in here. If the pixel value is under 30, it is going to be set to 0 and if the pixel value is above 30, then it is going to be set to 200."
   ]
  },
  {
   "cell_type": "code",
   "execution_count": 14,
   "metadata": {},
   "outputs": [
    {
     "data": {
      "image/png": "[encoded data removed]",
      "text/plain": [
       "<Figure size 720x720 with 15 Axes>"
      ]
     },
     "metadata": {
      "needs_background": "light"
     },
     "output_type": "display_data"
    }
   ],
   "source": [
    "fig, ax = plt.subplots(3,5, figsize = (10,10))\n",
    "axes = ax.flatten()\n",
    "\n",
    "for i in range(15):\n",
    "    retVal, thresholds = cv2.threshold(shuffled[i], 30, 200, cv2.THRESH_BINARY)\n",
    "    \n",
    "    # retVal is representing optimal threshold value but since I'm using simple thresholding, I won't need that value.\n",
    "    # shuffled is the source as pixels of 1 data.\n",
    "    # applying threshold_binary technique.\n",
    "    \n",
    "    img = np.reshape(shuffled[i], (28,28))\n",
    "    \n",
    "    # reshaping shuffled[i] as it is going to be 28 array which contains 28 pixels.\n",
    "    \n",
    "    axes[i].imshow(img, cmap = \"Greys\") \n",
    "    \n",
    "    #imshow displays data as an image. cmap defines color, it can be changed into another color, I used gray tones.\n"
   ]
  },
  {
   "cell_type": "code",
   "execution_count": 15,
   "metadata": {},
   "outputs": [],
   "source": [
    "train_X = train_x.reshape(train_x.shape[0], train_x.shape[1], train_x.shape[2], 1)\n",
    "\n",
    "# train_x shape is 297960, 28, 28 for this dataset so we're using parameters of train_x.shape for reshaping it. \n",
    "# train_x.shape[0] = 297960, train_x.shape[1] = train_x.shape[2] = 28\n",
    "\n",
    "test_X = test_x.reshape(test_x.shape[0], test_x.shape[1], test_x.shape[2], 1)\n"
   ]
  },
  {
   "cell_type": "markdown",
   "metadata": {},
   "source": [
    "Why I reshaped the data?"
   ]
  },
  {
   "cell_type": "markdown",
   "metadata": {},
   "source": [
    "In order to put data in the model. I wanted to be sure that TensorFlow/Keras is able to read the data correctly. Keras/TensorFlow will take the shape of data as (NumberOfImages, ImageWidth, ImageHeight, ColorDimension). So I simply added ColorDimension to shape of my data which is 1."
   ]
  },
  {
   "cell_type": "code",
   "execution_count": 16,
   "metadata": {},
   "outputs": [
    {
     "name": "stdout",
     "output_type": "stream",
     "text": [
      "New shape of train data:  (297960, 28, 28, 1)\n",
      "New shape of test data:  (74490, 28, 28, 1)\n"
     ]
    }
   ],
   "source": [
    "# See, if the shape of data is in the format that Keras wants:\n",
    "\n",
    "print(\"New shape of train data: \", train_X.shape)\n",
    "print(\"New shape of test data: \", test_X.shape)"
   ]
  },
  {
   "cell_type": "code",
   "execution_count": 17,
   "metadata": {},
   "outputs": [
    {
     "name": "stdout",
     "output_type": "stream",
     "text": [
      "New shape of train labels:  (297960, 26)\n",
      "New shape of test labels:  (74490, 26)\n"
     ]
    }
   ],
   "source": [
    "train_y_bin = to_categorical(train_y, num_classes = 26, dtype = 'int')\n",
    "print(\"New shape of train labels: \", train_y_bin.shape)\n",
    "\n",
    "test_y_bin = to_categorical(test_y, num_classes = 26, dtype = 'int')\n",
    "print(\"New shape of test labels: \", test_y_bin.shape)"
   ]
  },
  {
   "cell_type": "markdown",
   "metadata": {},
   "source": [
    "'to_categorical' is from **tensorflow**. It converts a vector to a binary matrix. I converted train_y into a binary matrix because since I'm using a categorical data (letters: a,b,c,... values of letters represent different categories) , I wanted to implement 'One Hot Encoding'."
   ]
  },
  {
   "cell_type": "markdown",
   "metadata": {},
   "source": [
    "One Hot Encoding: <br>\n",
    "$\\;\\;\\;\\;\\;\\;$ While using categorical data, some algorithms cannot operate labeled data. I have a dataset which contains letters. Each category has names like A, B, C,... and these are labels, categories are not numeric. The algorithm that I'm about to use requires numeric inputs and outputs. <br>\n",
    "$\\;\\;\\;\\;\\;\\;$ One Hot Encoding provides a binary representation of each label. For example while representing A, instead of using A directly, we encode A like a binary number 1 0 0 0 0 0 .. 0 0. <br>\n",
    "$\\;\\;\\;\\;\\;\\;$ For a better understanding, I can show a little sample on A B C:"
   ]
  },
  {
   "cell_type": "markdown",
   "metadata": {},
   "source": [
    "| A | B | C |\n",
    "| --- | --- | --- |\n",
    "| 1 | 0 | 0 |\n",
    "| 0 | 1 | 0 |\n",
    "| 0 | 0 | 1 |"
   ]
  },
  {
   "cell_type": "markdown",
   "metadata": {},
   "source": [
    "$\\;\\;\\;\\;\\;\\;$ If A is represented, only A column is set as '1' and the other columns are filled with '0'. Same for the other labels. Since my dataset is alphabet letters, I have 26 columns in train_y_bin that represents letters. "
   ]
  },
  {
   "cell_type": "markdown",
   "metadata": {},
   "source": [
    "***Until here, I worked on data. Now, I'm going to build the model***"
   ]
  },
  {
   "cell_type": "markdown",
   "metadata": {},
   "source": [
    "Building a CNN Model : Convolutional Neural Network <br>\n",
    "*brief notes*<br>\n",
    "• White pixels in the image are marked as -1 and black pixels are marked as 1. <br>\n",
    "• CNN compares images piece by piece. <br>\n",
    "• small images are taken of the big image. <br>\n",
    "**-> First Layer : Convolutional Layer** <br>\n",
    "$\\;\\;\\;$ Moving the filter to every possible position on the image. Then multiply each big image pixel (-1 or 1) by the corresponding filtered small image's pixel. After than take average of the small image's pixel values and place the result into the middle of the filtered part.<br>\n",
    "**-> Second Layer : ReLU Layer**<br>\n",
    "$\\;\\;\\;$ In this layer, remove all negative values from the filtered image and replace them with zeros.<br>\n",
    "**-> Third Layer : Pooling Layer**<br>\n",
    "$\\;\\;\\;$ Pick a window size and a step size. After that walk on the window across filtered image. From each window, take the maximum value. By doing this, image becomes minimized/shrinked<br>\n",
    "•Then apply these layers again.<br>\n",
    "**-> Final Layer : Actual Classification**<br>\n",
    "$\\;\\;\\;$ At the end, convert the minimized images of a category into a single dimensional vector. In the vector, there will be some values which are higher than others. So, after training, it is known that which indexes containg higher values for one specific letter.<br>\n",
    "**Comparing a Letter For Classification**<br>\n",
    "Sum all the specified indexes' values on the input image which is wanted to be categorized. Sum all values of the decision vector. Divide these two values. The result is determined by this division. If division is high, then input image belongs to that category."
   ]
  },
  {
   "cell_type": "code",
   "execution_count": 18,
   "metadata": {},
   "outputs": [],
   "source": [
    "model = Sequential() # sequential model allows creating layers"
   ]
  },
  {
   "cell_type": "code",
   "execution_count": 19,
   "metadata": {},
   "outputs": [],
   "source": [
    "model.add(Conv2D(filters = 32, kernel_size = (3, 3), activation = 'relu', input_shape = (28,28,1)))"
   ]
  },
  {
   "cell_type": "markdown",
   "metadata": {},
   "source": [
    "'Conv2d' is from **tensorflow**. <br>\n",
    "filters are the number of output filters in the convolution. <br>\n",
    "kernel_size specifies the height and width of the 2D convolution window. <br>\n",
    "activation is activation function to use."
   ]
  },
  {
   "cell_type": "code",
   "execution_count": 20,
   "metadata": {},
   "outputs": [],
   "source": [
    "model.add(MaxPool2D(pool_size = (2, 2), strides = 2))"
   ]
  },
  {
   "cell_type": "markdown",
   "metadata": {},
   "source": [
    "'MaxPool2D' is from **tensorflow** <br>\n",
    "pool_size is window size. strides is step size."
   ]
  },
  {
   "cell_type": "code",
   "execution_count": 21,
   "metadata": {},
   "outputs": [],
   "source": [
    "model.add(Conv2D(filters = 64, kernel_size = (3, 3), activation = 'relu', padding = 'same'))\n",
    "model.add(MaxPool2D(pool_size = (2, 2), strides = 2))"
   ]
  },
  {
   "cell_type": "markdown",
   "metadata": {},
   "source": [
    "Same steps with filters is 64. <br>\n",
    "If padding = 'same' output is produced of the same size as the input. "
   ]
  },
  {
   "cell_type": "code",
   "execution_count": 22,
   "metadata": {},
   "outputs": [],
   "source": [
    "model.add(Conv2D(filters = 128, kernel_size = (3, 3), activation = 'relu', padding = 'valid'))\n",
    "model.add(MaxPool2D(pool_size = (2, 2), strides = 2))"
   ]
  },
  {
   "cell_type": "code",
   "execution_count": 23,
   "metadata": {},
   "outputs": [],
   "source": [
    "model.add(Flatten())"
   ]
  },
  {
   "cell_type": "code",
   "execution_count": 24,
   "metadata": {},
   "outputs": [],
   "source": [
    "model.add(Dense(64, activation = \"relu\"))\n",
    "model.add(Dense(128, activation = \"relu\"))\n",
    "model.add(Dense(26, activation = \"softmax\"))"
   ]
  },
  {
   "cell_type": "markdown",
   "metadata": {},
   "source": [
    "softmax function converts a vector of numbers into a vector of probabilities"
   ]
  },
  {
   "cell_type": "code",
   "execution_count": 25,
   "metadata": {},
   "outputs": [],
   "source": [
    "model.compile(optimizer = Adam(learning_rate = 0.001), loss = 'categorical_crossentropy', metrics = ['accuracy'])"
   ]
  },
  {
   "cell_type": "markdown",
   "metadata": {},
   "source": [
    "categorical_crossentropy computes the crossentropy loss between the labels and predictions. It expects labels to be represented in one hot encoding. <br>\n",
    "metrics acurracy calculates how often predictions equal labels."
   ]
  },
  {
   "cell_type": "code",
   "execution_count": 26,
   "metadata": {},
   "outputs": [
    {
     "name": "stdout",
     "output_type": "stream",
     "text": [
      "9312/9312 [==============================] - 95s 10ms/step - loss: 0.1582 - accuracy: 0.9562 - val_loss: 0.0800 - val_accuracy: 0.9780\n"
     ]
    }
   ],
   "source": [
    "history = model.fit(train_X, train_y_bin, epochs = 1,  validation_data = (test_X, test_y_bin))"
   ]
  },
  {
   "cell_type": "markdown",
   "metadata": {},
   "source": [
    "I saved my model as h5 file which is Hierarchical Data Format. Contains scientific data."
   ]
  },
  {
   "cell_type": "code",
   "execution_count": 27,
   "metadata": {},
   "outputs": [],
   "source": [
    "model.save(r'hwchar_model.h5')"
   ]
  },
  {
   "cell_type": "code",
   "execution_count": 28,
   "metadata": {},
   "outputs": [],
   "source": [
    "# model.summary()"
   ]
  },
  {
   "cell_type": "code",
   "execution_count": 29,
   "metadata": {},
   "outputs": [
    {
     "data": {
      "image/png": "[encoded data removed]",
      "text/plain": [
       "<Figure size 1080x720 with 15 Axes>"
      ]
     },
     "metadata": {
      "needs_background": "light"
     },
     "output_type": "display_data"
    }
   ],
   "source": [
    "fig, axes = plt.subplots(3, 5, figsize = (15,10)) # ax is [0,0] [0,1] [0,2] \n",
    "                                                    #  [1,0] [1,1] [1,2]...\n",
    "axes = axes.flatten()\n",
    "\n",
    "# enumerating axes so I can iterate over each subplot.\n",
    "\n",
    "for i,ax in enumerate(axes):\n",
    "    img = np.reshape(test_X[i], (28,28))\n",
    "    axes[i].imshow(img, cmap = \"Greys\")\n",
    "    \n",
    "    predicted = letter_list[np.argmax(test_y_bin[i])] # argmax returns the index of maximum value. \n",
    "                                                      # maximum value is given to the most accurate prediction.\n",
    "    axes[i].set_title(\"Prediction is : \" + predicted)"
   ]
  },
  {
   "cell_type": "markdown",
   "metadata": {},
   "source": [
    "These are the test datas and predictions are correct."
   ]
  },
  {
   "cell_type": "markdown",
   "metadata": {},
   "source": [
    "# GUI PROGRAM FOR DRAWING CHARACTERS AND RECOGNIZE IT (uncomment to try)"
   ]
  },
  {
   "cell_type": "code",
   "execution_count": 39,
   "metadata": {
    "scrolled": false
   },
   "outputs": [],
   "source": [
    " #GUI that predicts the written letter\n",
    "\n",
    "from tkinter import *\n",
    "import tkinter as tk\n",
    "from PIL import ImageGrab, Image\n",
    "\n",
    "def predict_Letter(img):\n",
    "    img_copy = np.array(img.copy())  #shaping and binarization to make it appropriate for model\n",
    "    img_copy = cv2.GaussianBlur(img_copy, (7,7), 0)\n",
    "    img_gray = cv2.cvtColor(img_copy, cv2.COLOR_BGR2GRAY)        \n",
    "    retVal, img_thresh = cv2.threshold(img_gray, 30, 255, cv2.THRESH_BINARY_INV)\n",
    "    img_final = cv2.resize(img_thresh, (28,28))\n",
    "    img_final = np.reshape(img_final, (1,28,28,1))\n",
    "    \n",
    "    fig, axes = plt.subplots(1,1, figsize=(8,8))  #prints the letters which are drawn to the screen\n",
    "    bastir = np.reshape(img_final, (28,28))\n",
    "    axes.imshow(bastir, cmap=\"Greys\")\n",
    "    axes.set_title(\"Drawn Character\")\n",
    "    \n",
    "    img_pred = letter_list[np.argmax(model.predict(img_final))] #prediction\n",
    "    percent = max(model.predict(img_final))\n",
    "    return img_pred, percent\n",
    "\n",
    "def clear_Canvas():\n",
    "    canvas.delete(\"all\")\n",
    "    label1.configure(text = \"Draw a Letter!\")\n",
    "    label1.grid(padx = 50)\n",
    "    \n",
    "def recognize():\n",
    "    x0 = canvas.winfo_rootx() + 70\n",
    "    y0 = canvas.winfo_rooty() + 30\n",
    "    x1 = x0 + canvas.winfo_width() + 130\n",
    "    y1 = y0 + canvas.winfo_height() + 130\n",
    "    img = ImageGrab.grab((x0, y0, x1, y1))\n",
    "    char, percent = predict_Letter(img)\n",
    "    label1.configure(text = \"Predicted is \" + char + \"\\nwith the accuracy \" + str(int(max(percent)*100))+\"%\")\n",
    "    label1.grid(padx = 0)\n",
    "        \n",
    "\n",
    "def draw_Letter(event):\n",
    "    r = 10\n",
    "    canvas.create_oval(event.x - r, event.y - r, event.x + r, event.y + r, fill = 'black', outline = 'black')\n",
    "    \n",
    "    \n",
    "def create_GUI():\n",
    "\n",
    "    canvas.grid(row = 0, column = 0, padx = 50, pady = 50)\n",
    "    label1.grid(row = 0, column = 1, padx = 50, pady = 50)\n",
    "    button1.grid(row = 1, column = 1)\n",
    "    button2.grid(row = 1, column = 0)\n",
    "    canvas.bind(\"<B1-Motion>\", draw_Letter)\n",
    "    \n",
    "    window.mainloop()\n",
    "\n",
    "\n",
    "    \n",
    "window = tk.Tk()\n",
    "window.geometry(\"850x600+300+100\")\n",
    "window.title(\"Handwritten Character Recognition\")\n",
    "window.configure(bg = '#dfeff7')\n",
    "window.x = 0\n",
    "window.y = 0\n",
    "canvas  = tk.Canvas(window, width = 400, height = 400, bg = \"white\", cursor = \"circle\")\n",
    "label1  = tk.Label(window, text = \"Draw a Letter!\", font = (\"Georgia\", 24), bg = '#dfeff7' )\n",
    "button1 = tk.Button(window, text = \"Recognize\", width = 10, height = 3, font = (\"Georgia\", 10), \n",
    "                    relief='groove', command = recognize, bg = '#32547d', fg = '#e1ebf7')\n",
    "button2 = tk.Button(window, text = \"Clear\",  width = 10, height = 3, font = (\"Georgia\", 10), \n",
    "                    relief='groove', command = clear_Canvas, bg = '#32547d', fg = '#e1ebf7')\n",
    "\n",
    "\n",
    "    \n",
    "create_GUI()\n"
   ]
  },
  {
   "cell_type": "markdown",
   "metadata": {},
   "source": [
    "# GUI PROGRAM FOR UPLOADING CHARACTER IMAGES AND RECOGNIZE IT (uncomment to try)"
   ]
  },
  {
   "cell_type": "code",
   "execution_count": 48,
   "metadata": {},
   "outputs": [],
   "source": [
    " #GUI that predicts the uploaded letter\n",
    "\n",
    "from tkinter import *\n",
    "import tkinter as tk\n",
    "from PIL import ImageTk, ImageGrab, Image\n",
    "from tkinter.filedialog import askopenfilename\n",
    "import matplotlib.image as mpimg \n",
    "\n",
    "def predict_Letter(img):\n",
    "    #shaping and binarization to make it appropriate for model\n",
    "    img_new = cv2.GaussianBlur(img, (7,7), 0)   \n",
    "    retVal, img_thresh = cv2.threshold(img, 100, 255, cv2.THRESH_BINARY_INV)\n",
    "    img_final = cv2.resize(img_thresh, (28,28))\n",
    "    img_final = np.reshape(img_final, (1,28,28,1))\n",
    "    \n",
    "    fig, axes = plt.subplots(1,1, figsize=(8,8))  #prints the letters which are drawn to the screen\n",
    "    bastir = np.reshape(img_final, (28,28))\n",
    "    axes.imshow(bastir, cmap=\"Greys\")\n",
    "    axes.set_title(\"Uploaded Character\")\n",
    "    \n",
    "    img_pred = letter_list[np.argmax(model.predict(img_final))] #prediction\n",
    "    percent = max(model.predict(img_final))\n",
    "    return img_pred, percent\n",
    "\n",
    "\n",
    "def clear_all():\n",
    "    label1.pack_forget()\n",
    "    label2.pack_forget()\n",
    "    label3.pack_forget()\n",
    "    \n",
    "    button2.pack_forget()\n",
    "    button1.place(x = 190, y = 400)\n",
    "    label0.place(x = 20, y = 350)\n",
    "\n",
    "\n",
    "def upload_Picture():\n",
    "    \n",
    "    filename = askopenfilename()       # gets a selected file's directory as a string from computer\n",
    "    img = Image.open(filename)         # opens that file\n",
    "    filename_new = list(filename)      # string to list\n",
    "        \n",
    "    label0.place_forget()\n",
    "    button1.place_forget()\n",
    "    \n",
    "    for i in range(len(filename_new)):\n",
    "        if filename_new[i] == '/' :\n",
    "            filename_new[i] = \"\\\\\"     # changing slashes with backslashes to use it in imread function\n",
    "            \n",
    "    filename_final = ''.join(filename_new) # converting filename_new list to string\n",
    "    \n",
    "    img.thumbnail((350,350))           # resizing image by keeping the ratio of it\n",
    "    img_tk = ImageTk.PhotoImage(img)   # tkinter image module\n",
    "    label1.configure(image = img_tk)   # loading image in a label\n",
    "    label1.image = img_tk\n",
    "    label1.pack()                      # showing the uploaded image on the gui\n",
    "    \n",
    "    data = cv2.imread(filename_final, 0)  # turning the image into grayscale and representing it as an array\n",
    "\n",
    "\n",
    "    if data is not None:\n",
    "        data = np.array(data)    # converting data into a numpy array to process\n",
    "        char, percent = predict_Letter(data)\n",
    "        \n",
    "        label2.configure(text = \"Predicted is \" + char + \" with the accuracy \" + str(int(max(percent)*100))+\"%\",\n",
    "                          font = (\"Georgia\", 13), bg = \"#fff5fc\")\n",
    "        label2.pack()               \n",
    "        \n",
    "        if max(percent) < 0.60 :\n",
    "            label3.configure(text = \"Color or shape is not clear enough. \\nMaybe you should try another image.\",\n",
    "                              font = (\"Georgia\", 13), bg = \"#fff5fc\")\n",
    "            label3.pack()\n",
    "                   \n",
    "    else:\n",
    "        label2.configure(text = \"This image is not compatible. Please try another image.\", \n",
    "                          font = (\"Georgia\", 13),bg = \"#fff5fc\")\n",
    "        label2.pack()\n",
    "\n",
    "\n",
    "    button2.pack()\n",
    "\n",
    "    \n",
    "    \n",
    "def create_GUI():\n",
    "    button1.place(x = 180, y = 400)\n",
    "    label0.place(x = 20, y = 350)\n",
    "    \n",
    "    window.mainloop()\n",
    "    \n",
    "\n",
    "window = tk.Tk()\n",
    "window.geometry(\"500x500+500+200\")\n",
    "window.title(\"Handwritten Character Recognition\")\n",
    "window.configure(bg = \"#fff5fc\")\n",
    "window.title(\"Handwritten Character Recognition\")\n",
    "button1 = tk.Button(window, text = \"Open Image\", width = 15, height = 3, font = (\"Georgia\", 10), \n",
    "                    relief='groove', command = upload_Picture, bg = '#52023a', fg = '#dbced7')\n",
    "\n",
    "button2 = tk.Button(window, text = \"Clear All\", width = 15, height = 3, font = (\"Georgia\", 10), \n",
    "                    relief='groove', command = clear_all, bg = '#52023a', fg = '#dbced7')\n",
    "\n",
    "label0 = tk.Label(text = \"For high accuracy rate, please upload dark and thick images.\", font = (\"Georgia\", 13),\n",
    "                 bg = \"#fff5fc\")\n",
    "\n",
    "label1 = tk.Label(window)\n",
    "label2 = tk.Label(window)\n",
    "label3 = tk.Label(window)\n",
    "\n",
    "\n",
    "create_GUI()\n"
   ]
  },
  {
   "cell_type": "code",
   "execution_count": null,
   "metadata": {},
   "outputs": [],
   "source": []
  }
 ],
 "metadata": {
  "kernelspec": {
   "display_name": "Python 3",
   "language": "python",
   "name": "python3"
  },
  "language_info": {
   "codemirror_mode": {
    "name": "ipython",
    "version": 3
   },
   "file_extension": ".py",
   "mimetype": "text/x-python",
   "name": "python",
   "nbconvert_exporter": "python",
   "pygments_lexer": "ipython3",
   "version": "3.7.9"
  }
 },
 "nbformat": 4,
 "nbformat_minor": 4
}
